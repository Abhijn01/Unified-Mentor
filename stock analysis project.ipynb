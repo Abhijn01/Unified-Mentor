{
 "cells": [
  {
   "cell_type": "code",
   "execution_count": 6,
   "id": "0bb7accd-7790-434e-a812-e13b835dd719",
   "metadata": {},
   "outputs": [
    {
     "name": "stdout",
     "output_type": "stream",
     "text": [
      "  Ticker       Date        Open        High         Low       Close  \\\n",
      "0   AAPL 2023-02-07  150.639999  155.229996  150.639999  154.649994   \n",
      "1   AAPL 2023-02-08  153.880005  154.580002  151.169998  151.919998   \n",
      "2   AAPL 2023-02-09  153.779999  154.330002  150.419998  150.869995   \n",
      "3   AAPL 2023-02-10  149.460007  151.339996  149.220001  151.009995   \n",
      "4   AAPL 2023-02-13  150.949997  154.259995  150.919998  153.850006   \n",
      "\n",
      "    Adj Close    Volume  \n",
      "0  154.414230  83322600  \n",
      "1  151.688400  64120100  \n",
      "2  150.639999  56007100  \n",
      "3  151.009995  57450700  \n",
      "4  153.850006  62199000  \n"
     ]
    }
   ],
   "source": [
    "import pandas as pd\n",
    "\n",
    "# Load dataset\n",
    "data = pd.read_csv('C:/Users/jabhi/Desktop/Unified Mentor/stock market/archive/stocks.csv')\n",
    "\n",
    "# Step 1: Convert 'Date' to datetime format\n",
    "data['Date'] = pd.to_datetime(data['Date'])\n",
    "\n",
    "# Step 2: Remove duplicates\n",
    "data = data.drop_duplicates()\n",
    "\n",
    "# Step 3: Handle missing values (if any)\n",
    "# Since there are no missing values in this dataset, you can use the following approach for future datasets:\n",
    "# If you want to fill missing values with the mean:\n",
    "# data['Open'] = data['Open'].fillna(data['Open'].mean())\n",
    "# Alternatively, you can drop rows with missing values:\n",
    "# data = data.dropna()\n",
    "\n",
    "# Step 4: Remove outliers (based on business rules, e.g., abnormal stock prices)\n",
    "# Define price ranges (optional)\n",
    "data = data[(data['Open'] > 0) & (data['Close'] > 0)]  # Removing negative or zero stock prices if any\n",
    "\n",
    "# Step 5: Reset index after cleaning\n",
    "data = data.reset_index(drop=True)\n",
    "\n",
    "# Export the cleaned data\n",
    "data.to_csv('cleaned_stocks.csv', index=False)\n",
    "\n",
    "# Display cleaned data\n",
    "print(data.head())\n"
   ]
  },
  {
   "cell_type": "code",
   "execution_count": 8,
   "id": "6fbd0c8b-059c-43e0-b939-967686763907",
   "metadata": {},
   "outputs": [],
   "source": [
    "# Export the cleaned data to a CSV file\n",
    "data.to_csv('stocks.csv', index=False)"
   ]
  }
 ],
 "metadata": {
  "kernelspec": {
   "display_name": "Python 3 (ipykernel)",
   "language": "python",
   "name": "python3"
  },
  "language_info": {
   "codemirror_mode": {
    "name": "ipython",
    "version": 3
   },
   "file_extension": ".py",
   "mimetype": "text/x-python",
   "name": "python",
   "nbconvert_exporter": "python",
   "pygments_lexer": "ipython3",
   "version": "3.12.4"
  }
 },
 "nbformat": 4,
 "nbformat_minor": 5
}
