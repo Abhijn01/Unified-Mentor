{
 "cells": [
  {
   "cell_type": "code",
   "execution_count": 1,
   "id": "ae465135-0e8c-42a9-908b-ef362da40365",
   "metadata": {},
   "outputs": [
    {
     "name": "stderr",
     "output_type": "stream",
     "text": [
      "C:\\Users\\jabhi\\AppData\\Local\\Temp\\ipykernel_13736\\1788899615.py:12: FutureWarning: A value is trying to be set on a copy of a DataFrame or Series through chained assignment using an inplace method.\n",
      "The behavior will change in pandas 3.0. This inplace method will never work because the intermediate object on which we are setting values always behaves as a copy.\n",
      "\n",
      "For example, when doing 'df[col].method(value, inplace=True)', try using 'df.method({col: value}, inplace=True)' or df[col] = df[col].method(value) instead, to perform the operation inplace on the original object.\n",
      "\n",
      "\n",
      "  data_cleaned['Customer Lname'].fillna(method='ffill', inplace=True)\n",
      "C:\\Users\\jabhi\\AppData\\Local\\Temp\\ipykernel_13736\\1788899615.py:12: FutureWarning: Series.fillna with 'method' is deprecated and will raise in a future version. Use obj.ffill() or obj.bfill() instead.\n",
      "  data_cleaned['Customer Lname'].fillna(method='ffill', inplace=True)\n",
      "C:\\Users\\jabhi\\AppData\\Local\\Temp\\ipykernel_13736\\1788899615.py:13: FutureWarning: A value is trying to be set on a copy of a DataFrame or Series through chained assignment using an inplace method.\n",
      "The behavior will change in pandas 3.0. This inplace method will never work because the intermediate object on which we are setting values always behaves as a copy.\n",
      "\n",
      "For example, when doing 'df[col].method(value, inplace=True)', try using 'df.method({col: value}, inplace=True)' or df[col] = df[col].method(value) instead, to perform the operation inplace on the original object.\n",
      "\n",
      "\n",
      "  data_cleaned['Customer Zipcode'].fillna(method='ffill', inplace=True)\n",
      "C:\\Users\\jabhi\\AppData\\Local\\Temp\\ipykernel_13736\\1788899615.py:13: FutureWarning: Series.fillna with 'method' is deprecated and will raise in a future version. Use obj.ffill() or obj.bfill() instead.\n",
      "  data_cleaned['Customer Zipcode'].fillna(method='ffill', inplace=True)\n"
     ]
    },
    {
     "name": "stdout",
     "output_type": "stream",
     "text": [
      "<class 'pandas.core.frame.DataFrame'>\n",
      "RangeIndex: 180519 entries, 0 to 180518\n",
      "Data columns (total 50 columns):\n",
      " #   Column                         Non-Null Count   Dtype         \n",
      "---  ------                         --------------   -----         \n",
      " 0   Type                           180519 non-null  object        \n",
      " 1   Days for shipping (real)       180519 non-null  int64         \n",
      " 2   Days for shipment (scheduled)  180519 non-null  int64         \n",
      " 3   Benefit per order              180519 non-null  float64       \n",
      " 4   Sales per customer             180519 non-null  float64       \n",
      " 5   Delivery Status                180519 non-null  object        \n",
      " 6   Late_delivery_risk             180519 non-null  int64         \n",
      " 7   Category Id                    180519 non-null  int64         \n",
      " 8   Category Name                  180519 non-null  object        \n",
      " 9   Customer City                  180519 non-null  object        \n",
      " 10  Customer Country               180519 non-null  object        \n",
      " 11  Customer Email                 180519 non-null  object        \n",
      " 12  Customer Fname                 180519 non-null  object        \n",
      " 13  Customer Id                    180519 non-null  int64         \n",
      " 14  Customer Lname                 180519 non-null  object        \n",
      " 15  Customer Password              180519 non-null  object        \n",
      " 16  Customer Segment               180519 non-null  object        \n",
      " 17  Customer State                 180519 non-null  object        \n",
      " 18  Customer Street                180519 non-null  object        \n",
      " 19  Customer Zipcode               180519 non-null  float64       \n",
      " 20  Department Id                  180519 non-null  int64         \n",
      " 21  Department Name                180519 non-null  object        \n",
      " 22  Latitude                       180519 non-null  float64       \n",
      " 23  Longitude                      180519 non-null  float64       \n",
      " 24  Market                         180519 non-null  object        \n",
      " 25  Order City                     180519 non-null  object        \n",
      " 26  Order Country                  180519 non-null  object        \n",
      " 27  Order Customer Id              180519 non-null  int64         \n",
      " 28  order date (DateOrders)        180519 non-null  datetime64[ns]\n",
      " 29  Order Id                       180519 non-null  int64         \n",
      " 30  Order Item Cardprod Id         180519 non-null  int64         \n",
      " 31  Order Item Discount            180519 non-null  float64       \n",
      " 32  Order Item Discount Rate       180519 non-null  float64       \n",
      " 33  Order Item Id                  180519 non-null  int64         \n",
      " 34  Order Item Product Price       180519 non-null  float64       \n",
      " 35  Order Item Profit Ratio        180519 non-null  float64       \n",
      " 36  Order Item Quantity            180519 non-null  int64         \n",
      " 37  Sales                          180519 non-null  float64       \n",
      " 38  Order Item Total               180519 non-null  float64       \n",
      " 39  Order Profit Per Order         180519 non-null  float64       \n",
      " 40  Order Region                   180519 non-null  object        \n",
      " 41  Order State                    180519 non-null  object        \n",
      " 42  Order Status                   180519 non-null  object        \n",
      " 43  Product Card Id                180519 non-null  int64         \n",
      " 44  Product Category Id            180519 non-null  int64         \n",
      " 45  Product Name                   180519 non-null  object        \n",
      " 46  Product Price                  180519 non-null  float64       \n",
      " 47  Product Status                 180519 non-null  int64         \n",
      " 48  shipping date (DateOrders)     180519 non-null  datetime64[ns]\n",
      " 49  Shipping Mode                  180519 non-null  object        \n",
      "dtypes: datetime64[ns](2), float64(13), int64(14), object(21)\n",
      "memory usage: 68.9+ MB\n"
     ]
    }
   ],
   "source": [
    "import pandas as pd\n",
    "\n",
    "# Load the dataset\n",
    "file_path = 'C:/Users/jabhi/Desktop/Unified Mentor/Supply chain/archive (4)/DataCoSupplyChainDataset.csv'\n",
    "data = pd.read_csv(file_path, encoding='ISO-8859-1')\n",
    "\n",
    "# Dropping irrelevant columns\n",
    "columns_to_drop = ['Product Description', 'Order Zipcode', 'Product Image']\n",
    "data_cleaned = data.drop(columns=columns_to_drop)\n",
    "\n",
    "# Filling missing values for 'Customer Lname' and 'Customer Zipcode' using forward fill method\n",
    "data_cleaned['Customer Lname'].fillna(method='ffill', inplace=True)\n",
    "data_cleaned['Customer Zipcode'].fillna(method='ffill', inplace=True)\n",
    "\n",
    "# Converting 'shipping date (DateOrders)' and 'order date (DateOrders)' to datetime format\n",
    "data_cleaned['shipping date (DateOrders)'] = pd.to_datetime(data_cleaned['shipping date (DateOrders)'], errors='coerce')\n",
    "data_cleaned['order date (DateOrders)'] = pd.to_datetime(data_cleaned['order date (DateOrders)'], errors='coerce')\n",
    "\n",
    "# Checking the structure of the cleaned data\n",
    "data_cleaned.info()"
   ]
  },
  {
   "cell_type": "code",
   "execution_count": 3,
   "id": "17b3f6c9-b40a-4f94-8775-09d44641134a",
   "metadata": {},
   "outputs": [],
   "source": [
    "# Export the cleaned data to CSV for use in Power BI\n",
    "data_cleaned.to_csv('Cleaned_Supply_Chain_Data.csv', index=False)"
   ]
  }
 ],
 "metadata": {
  "kernelspec": {
   "display_name": "Python 3 (ipykernel)",
   "language": "python",
   "name": "python3"
  },
  "language_info": {
   "codemirror_mode": {
    "name": "ipython",
    "version": 3
   },
   "file_extension": ".py",
   "mimetype": "text/x-python",
   "name": "python",
   "nbconvert_exporter": "python",
   "pygments_lexer": "ipython3",
   "version": "3.12.4"
  }
 },
 "nbformat": 4,
 "nbformat_minor": 5
}
